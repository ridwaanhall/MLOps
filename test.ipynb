{
 "cells": [
  {
   "cell_type": "code",
   "execution_count": 1,
   "metadata": {},
   "outputs": [],
   "source": [
    "import requests\n",
    "import tensorflow as tf\n",
    "import base64\n",
    "import json\n",
    "import requests\n",
    "from pprint import PrettyPrinter"
   ]
  },
  {
   "cell_type": "code",
   "execution_count": 2,
   "metadata": {},
   "outputs": [
    {
     "name": "stdout",
     "output_type": "stream",
     "text": [
      "{'metadata': {'signature_def': {'signature_def': {'__saved_model_init_op': {'inputs': {},\n",
      "                                                                            'method_name': '',\n",
      "                                                                            'outputs': {'__saved_model_init_op': {'dtype': 'DT_INVALID',\n",
      "                                                                                                                  'name': 'NoOp',\n",
      "                                                                                                                  'tensor_shape': {'dim': [],\n",
      "                                                                                                                                   'unknown_rank': True}}}},\n",
      "                                                  'serving_default': {'inputs': {'examples': {'dtype': 'DT_STRING',\n",
      "                                                                                              'name': 'serving_default_examples:0',\n",
      "                                                                                              'tensor_shape': {'dim': [{'name': '',\n",
      "                                                                                                                        'size': '-1'}],\n",
      "                                                                                                               'unknown_rank': False}}},\n",
      "                                                                      'method_name': 'tensorflow/serving/predict',\n",
      "                                                                      'outputs': {'output_0': {'dtype': 'DT_FLOAT',\n",
      "                                                                                               'name': 'StatefulPartitionedCall_1:0',\n",
      "                                                                                               'tensor_shape': {'dim': [{'name': '',\n",
      "                                                                                                                         'size': '-1'},\n",
      "                                                                                                                        {'name': '',\n",
      "                                                                                                                         'size': '1'}],\n",
      "                                                                                                                'unknown_rank': False}}}}}}},\n",
      " 'model_spec': {'name': 'sarchasm-detection-model',\n",
      "                'signature_name': '',\n",
      "                'version': '1658976715'}}\n"
     ]
    }
   ],
   "source": [
    "pp = PrettyPrinter()\n",
    "pp.pprint(requests.get(\"http://localhost:8080/v1/models/sarchasm-detection-model/metadata\").json())"
   ]
  },
  {
   "cell_type": "code",
   "execution_count": 4,
   "metadata": {},
   "outputs": [
    {
     "name": "stdout",
     "output_type": "stream",
     "text": [
      "{'model_version_status': [{'state': 'AVAILABLE',\n",
      "                           'status': {'error_code': 'OK', 'error_message': ''},\n",
      "                           'version': '1658976715'}]}\n"
     ]
    }
   ],
   "source": [
    "pp.pprint(requests.get(\"http://localhost:8080/v1/models/sarchasm-detection-model\").json())"
   ]
  },
  {
   "cell_type": "code",
   "execution_count": null,
   "metadata": {},
   "outputs": [],
   "source": []
  }
 ],
 "metadata": {
  "kernelspec": {
   "display_name": "Python 3.8.13 ('tfx-pipeline-sarcasm')",
   "language": "python",
   "name": "python3"
  },
  "language_info": {
   "codemirror_mode": {
    "name": "ipython",
    "version": 3
   },
   "file_extension": ".py",
   "mimetype": "text/x-python",
   "name": "python",
   "nbconvert_exporter": "python",
   "pygments_lexer": "ipython3",
   "version": "3.8.13"
  },
  "orig_nbformat": 4,
  "vscode": {
   "interpreter": {
    "hash": "614e1ab0f437a5a6ca9188a51b08d8b6cdc6656f6716327c66ae989e77e3b835"
   }
  }
 },
 "nbformat": 4,
 "nbformat_minor": 2
}
